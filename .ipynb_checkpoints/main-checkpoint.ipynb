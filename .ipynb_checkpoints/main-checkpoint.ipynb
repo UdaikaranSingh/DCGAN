{
 "cells": [
  {
   "cell_type": "code",
   "execution_count": 9,
   "metadata": {},
   "outputs": [],
   "source": [
    "import os\n",
    "import numpy as np"
   ]
  },
  {
   "cell_type": "code",
   "execution_count": 12,
   "metadata": {},
   "outputs": [],
   "source": [
    "celeba_output = np.load(\"output_celeba.npy\", allow_pickle=True)"
   ]
  },
  {
   "cell_type": "code",
   "execution_count": 13,
   "metadata": {},
   "outputs": [],
   "source": [
    "latent_axis = 0"
   ]
  },
  {
   "cell_type": "code",
   "execution_count": 14,
   "metadata": {},
   "outputs": [],
   "source": [
    "output_sorted = sorted(celeba_output, key=lambda x:x[0][latent_axis])"
   ]
  },
  {
   "cell_type": "code",
   "execution_count": 32,
   "metadata": {},
   "outputs": [],
   "source": [
    "for i in range(50):\n",
    "    latent_axis = i\n",
    "    output_sorted = sorted(celeba_output, key=lambda x:x[0][latent_axis])\n",
    "    \n",
    "    name = \"celeba_\" + str(latent_axis) + \".txt\"\n",
    "    file = open(name, \"w\")\n",
    "    \n",
    "    for n in range(len(output_sorted)):\n",
    "        line = str(output_sorted[n][0][i]) + \" \" + output_sorted[n][1][0]\n",
    "        file.write(line)\n",
    "        file.write(\"\\n\")\n",
    " \n",
    "    file.close() "
   ]
  },
  {
   "cell_type": "code",
   "execution_count": 27,
   "metadata": {},
   "outputs": [
    {
     "data": {
      "text/plain": [
       "'celeba/data/141240.jpg'"
      ]
     },
     "execution_count": 27,
     "metadata": {},
     "output_type": "execute_result"
    }
   ],
   "source": [
    "output_sorted[100][1][0]"
   ]
  },
  {
   "cell_type": "code",
   "execution_count": null,
   "metadata": {},
   "outputs": [],
   "source": []
  },
  {
   "cell_type": "code",
   "execution_count": 34,
   "metadata": {},
   "outputs": [],
   "source": [
    "chairs_output = np.load(\"output_chairs.npy\", allow_pickle=True)"
   ]
  },
  {
   "cell_type": "code",
   "execution_count": 35,
   "metadata": {},
   "outputs": [
    {
     "ename": "IndexError",
     "evalue": "list index out of range",
     "output_type": "error",
     "traceback": [
      "\u001b[0;31m---------------------------------------------------------------------------\u001b[0m",
      "\u001b[0;31mIndexError\u001b[0m                                Traceback (most recent call last)",
      "\u001b[0;32m<ipython-input-35-5b7e434bb0a6>\u001b[0m in \u001b[0;36m<module>\u001b[0;34m()\u001b[0m\n\u001b[1;32m      7\u001b[0m \u001b[0;34m\u001b[0m\u001b[0m\n\u001b[1;32m      8\u001b[0m     \u001b[0;32mfor\u001b[0m \u001b[0mn\u001b[0m \u001b[0;32min\u001b[0m \u001b[0mrange\u001b[0m\u001b[0;34m(\u001b[0m\u001b[0mlen\u001b[0m\u001b[0;34m(\u001b[0m\u001b[0moutput_sorted\u001b[0m\u001b[0;34m)\u001b[0m\u001b[0;34m)\u001b[0m\u001b[0;34m:\u001b[0m\u001b[0;34m\u001b[0m\u001b[0m\n\u001b[0;32m----> 9\u001b[0;31m         \u001b[0mline\u001b[0m \u001b[0;34m=\u001b[0m \u001b[0mstr\u001b[0m\u001b[0;34m(\u001b[0m\u001b[0moutput_sorted\u001b[0m\u001b[0;34m[\u001b[0m\u001b[0mn\u001b[0m\u001b[0;34m]\u001b[0m\u001b[0;34m[\u001b[0m\u001b[0;36m0\u001b[0m\u001b[0;34m]\u001b[0m\u001b[0;34m[\u001b[0m\u001b[0mi\u001b[0m\u001b[0;34m]\u001b[0m\u001b[0;34m)\u001b[0m \u001b[0;34m+\u001b[0m \u001b[0;34m\" \"\u001b[0m \u001b[0;34m+\u001b[0m \u001b[0moutput_sorted\u001b[0m\u001b[0;34m[\u001b[0m\u001b[0mn\u001b[0m\u001b[0;34m]\u001b[0m\u001b[0;34m[\u001b[0m\u001b[0;36m1\u001b[0m\u001b[0;34m]\u001b[0m\u001b[0;34m[\u001b[0m\u001b[0;36m0\u001b[0m\u001b[0;34m]\u001b[0m\u001b[0;34m\u001b[0m\u001b[0m\n\u001b[0m\u001b[1;32m     10\u001b[0m         \u001b[0mfile\u001b[0m\u001b[0;34m.\u001b[0m\u001b[0mwrite\u001b[0m\u001b[0;34m(\u001b[0m\u001b[0mline\u001b[0m\u001b[0;34m)\u001b[0m\u001b[0;34m\u001b[0m\u001b[0m\n\u001b[1;32m     11\u001b[0m         \u001b[0mfile\u001b[0m\u001b[0;34m.\u001b[0m\u001b[0mwrite\u001b[0m\u001b[0;34m(\u001b[0m\u001b[0;34m\"\\n\"\u001b[0m\u001b[0;34m)\u001b[0m\u001b[0;34m\u001b[0m\u001b[0m\n",
      "\u001b[0;31mIndexError\u001b[0m: list index out of range"
     ]
    }
   ],
   "source": [
    "for i in range(50):\n",
    "    latent_axis = i\n",
    "    output_sorted = sorted(chairs_output, key=lambda x:x[0][latent_axis])\n",
    "    \n",
    "    name = \"3D_chairs_\" + str(latent_axis) + \".txt\"\n",
    "    file = open(name, \"w\")\n",
    "    \n",
    "    for n in range(len(output_sorted)):\n",
    "        line = str(output_sorted[n][0][i]) + \" \" + output_sorted[n][1][0]\n",
    "        file.write(line)\n",
    "        file.write(\"\\n\")\n",
    " \n",
    "    file.close() "
   ]
  },
  {
   "cell_type": "code",
   "execution_count": 38,
   "metadata": {},
   "outputs": [
    {
     "data": {
      "text/plain": [
       "array([[array([-0.1069169 , -0.3992764 , -0.05677897,  0.04093711,  0.10232299,\n",
       "       -0.2775237 , -0.02089639,  0.29471824, -0.32306632,  0.04543525,\n",
       "        0.09632958,  0.46538517,  0.19215667, -0.9062125 ,  0.05087329,\n",
       "        0.06838805,  0.85429215,  0.64571   , -0.17729142,  0.34020337,\n",
       "       -0.3021041 , -0.12875125, -0.22470534,  0.41503212, -0.1720643 ,\n",
       "        0.8242531 , -0.3064594 , -0.01342303, -0.21641034,  0.4383969 ,\n",
       "       -0.34752807, -0.18564703,  0.7817271 , -0.13591044,  0.30568057,\n",
       "       -0.05667446, -0.1997524 ,  0.05914663,  0.18422   , -0.11740591,\n",
       "       -0.31360915,  0.4095317 ,  0.09915726,  0.06375075, -0.0904001 ,\n",
       "       -0.48112962, -0.09055379, -0.02393444,  0.664418  ,  0.05955522],\n",
       "      dtype=float32),\n",
       "        list([])],\n",
       "       [array([-0.30201146, -0.5778684 , -0.10648039, -0.34477922, -0.02205861,\n",
       "       -0.21992011, -0.14999598,  0.12399954, -0.23846273, -0.32068333,\n",
       "        0.6138537 ,  0.37429518,  0.6472666 , -0.84552807,  0.00410091,\n",
       "        0.29283205,  1.0261238 ,  0.5425307 , -0.2915363 ,  0.2801522 ,\n",
       "       -0.63666403,  0.12747587, -0.20558803,  0.39533156, -0.1579587 ,\n",
       "        0.51190275, -0.43676218,  0.10595099, -0.34371203,  0.63025266,\n",
       "       -0.4837811 ,  0.05806775,  0.84893656,  0.28852013,  0.4508608 ,\n",
       "        0.24652927,  0.04977071,  0.26712182,  0.16579317, -0.2594573 ,\n",
       "       -0.5367211 ,  0.45597523,  0.35184094,  0.08681732, -0.22810093,\n",
       "       -0.36834347, -0.3022694 , -0.00514711,  0.60417974,  0.14002466],\n",
       "      dtype=float32),\n",
       "        list([])],\n",
       "       [array([-0.17237218, -0.09127267, -0.05682618, -0.10508517,  0.10901684,\n",
       "       -0.40100032, -0.06706101,  0.27714616, -0.330949  ,  0.10851415,\n",
       "        0.5664575 ,  0.2843473 ,  0.19602782, -0.70922995,  0.03343284,\n",
       "       -0.0022828 ,  0.8219163 ,  1.0416846 , -0.40113434,  0.34064913,\n",
       "       -0.5606408 , -0.31856802, -0.42460647,  0.18207791,  0.02662862,\n",
       "        0.9268974 , -0.463823  , -0.09603452, -0.18729535,  0.6589295 ,\n",
       "       -0.34871483,  0.04545159,  1.0665333 ,  0.2733173 ,  0.33136886,\n",
       "        0.1966416 , -0.02733799, -0.08356406, -0.02996892, -0.27568185,\n",
       "       -0.482398  ,  0.38170007,  0.4329466 ,  0.1911299 , -0.10166453,\n",
       "        0.00243687, -0.09211527, -0.1249653 ,  0.14073214,  0.02561508],\n",
       "      dtype=float32),\n",
       "        list([])],\n",
       "       ...,\n",
       "       [array([-0.27656552, -0.49387977, -0.0661236 ,  0.23749554,  0.22406968,\n",
       "       -0.22133555,  0.24600017,  0.3115132 , -0.14853165,  0.01389404,\n",
       "        0.13033852,  0.4322772 ,  0.28256044, -0.74904156,  0.30959138,\n",
       "       -0.26752153,  0.9726981 ,  0.9564686 , -0.55507666,  0.63460714,\n",
       "       -0.549362  , -0.10414436, -0.18467122,  0.24070176,  0.10979796,\n",
       "        0.8522348 , -0.08988035,  0.05552562, -0.2522949 ,  0.42556745,\n",
       "       -0.39728403, -0.30097592,  0.95984685,  0.15302007,  0.27960882,\n",
       "        0.22035557, -0.39369348,  0.13403708,  0.49895823, -0.42190686,\n",
       "       -0.6951799 ,  0.38159314,  0.44738102,  0.21696688,  0.03878966,\n",
       "       -0.304263  , -0.48268634, -0.5787295 ,  0.17665118,  0.35454738],\n",
       "      dtype=float32),\n",
       "        list([])],\n",
       "       [array([-0.38445964, -0.2985049 , -0.04680591, -0.03732788,  0.44889638,\n",
       "        0.01510573,  0.07868823,  0.20630085, -0.26791292, -0.20987087,\n",
       "        0.27321023,  0.41822556,  0.35179627, -0.75544566,  0.5310746 ,\n",
       "        0.03836776,  0.7707586 ,  0.80201197, -0.3233313 ,  0.5479945 ,\n",
       "       -0.23826373, -0.04125223, -0.03080785,  0.19590525, -0.31359938,\n",
       "        0.8058593 , -0.2580288 ,  0.20328824, -0.29867852,  0.63769644,\n",
       "       -0.4550532 , -0.4020104 ,  1.0769815 ,  0.16087924,  0.16180868,\n",
       "        0.26002824, -0.35249802, -0.12651399,  0.31669012, -0.6916057 ,\n",
       "       -0.30977872,  0.7346998 ,  0.01924147,  0.06709417, -0.16916859,\n",
       "       -0.2591108 , -0.43391043, -0.21815154,  0.2322599 ,  0.33319545],\n",
       "      dtype=float32),\n",
       "        list([])],\n",
       "       [array([-0.07161931, -0.515647  , -0.0827546 , -0.06386437,  0.12028001,\n",
       "       -0.2737237 ,  0.01325711,  0.35693234, -0.16270886, -0.07115759,\n",
       "        0.44285667,  0.41976446,  0.54669565, -0.5965259 ,  0.12958062,\n",
       "       -0.06839065,  0.971907  ,  0.7601146 , -0.6438359 ,  0.7619112 ,\n",
       "       -0.35714385,  0.08255792, -0.07080048,  0.12984091,  0.02745426,\n",
       "        0.6750283 , -0.30504966, -0.20928071, -0.48446062,  0.49531496,\n",
       "       -0.38777533, -0.09639241,  0.67990005,  0.02914831,  0.5477536 ,\n",
       "        0.18388024, -0.26349992,  0.04828653,  0.12784281, -0.19379452,\n",
       "       -0.61703783,  0.28567317,  0.22061187,  0.09420292, -0.11903447,\n",
       "       -0.00399083, -0.34780794, -0.30190036,  0.14627072, -0.22662483],\n",
       "      dtype=float32),\n",
       "        list([])]], dtype=object)"
      ]
     },
     "execution_count": 38,
     "metadata": {},
     "output_type": "execute_result"
    }
   ],
   "source": [
    "chairs_output"
   ]
  },
  {
   "cell_type": "code",
   "execution_count": 39,
   "metadata": {},
   "outputs": [
    {
     "name": "stdout",
     "output_type": "stream",
     "text": [
      "Using CPU\n"
     ]
    }
   ],
   "source": [
    "import torch as torch\n",
    "import torch.nn as nn\n",
    "import torch.nn.functional as F\n",
    "import os\n",
    "from torch.autograd import Variable\n",
    "import torch.optim as optim\n",
    "from torchvision.datasets import ImageFolder\n",
    "import random\n",
    "import torchvision.transforms as transforms\n",
    "\n",
    "#######################################\n",
    "# Importing and setting up networks \n",
    "#######################################\n",
    "\n",
    "from model import Encoder, Decoder, Classifier, Discriminator\n",
    "\n",
    "cuda_available = torch.cuda.is_available()\n",
    "encoded_size = 50\n",
    "batch_size = 16\n",
    "\n",
    "if cuda_available:\n",
    "    print(\"Using GPU\")\n",
    "else:\n",
    "    print(\"Using CPU\")\n",
    "\n",
    "\n",
    "if cuda_available:\n",
    "\tencoder = Encoder(batch_size, encoded_size).cuda()\n",
    "\tdecoder = Decoder(batch_size, encoded_size).cuda()\n",
    "\tclassifier = Classifier(batch_size, encoded_size).cuda()\n",
    "\tdiscriminator = Discriminator(batch_size, encoded_size).cuda()\n",
    "\n",
    "\tif os.path.exists(\"enocder_model.pth\"):\n",
    "\t\tprint(\"Loading in Model\")\n",
    "\t\tencoder.load_state_dict(torch.load(\"encoder_model.pth\"))\n",
    "\t\tdecoder.load_state_dict(torch.load(\"decoder_model.pth\"))\n",
    "\t\tclassifier.load_state_dict(torch.load(\"classifier_model.pth\"))\n",
    "\t\tdiscriminator.load_state_dict(torch.load(\"discriminator_model.pth\"))\n",
    "else:\n",
    "\tencoder = Encoder(batch_size, encoded_size)\n",
    "\tdecoder = Decoder(batch_size, encoded_size)\n",
    "\tclassifier = Classifier(batch_size, encoded_size)\n",
    "\tdiscriminator = Discriminator(batch_size, encoded_size)\n",
    "\n",
    "\tif os.path.exists(\"enocder_model.pth\"):\n",
    "\t\tprint(\"Loading in Model\")\n",
    "\t\tencoder.load_state_dict(torch.load(\"encoder_model.pth\"))\n",
    "\t\tdecoder.load_state_dict(torch.load(\"decoder_model.pth\"))\n",
    "\t\tclassifier.load_state_dict(torch.load(\"classifier_model.pth\"))\n",
    "\t\tdiscriminator.load_state_dict(torch.load(\"discriminator_model.pth\"))\n",
    "\n",
    "##################################################\n",
    "# Definining Hyperparameters of Training Procedure\n",
    "##################################################\n",
    "\n",
    "random.seed(1)\n",
    "learning_rate = 0.2e-4\n",
    "beta1 = 0.5\n",
    "beta2 = 0.999\n",
    "num_epochs = 10\n",
    "epsilon = 1e-8\n",
    "\n",
    "optimizer = optim.Adam(list(encoder.parameters()) + list(decoder.parameters()) \n",
    "\t+ list(classifier.parameters()), \n",
    "\tlr=learning_rate, \n",
    "\tbetas=(beta1, beta2))\n",
    "\n",
    "transform = transforms.Compose([transforms.Resize((128, 128)),\n",
    "    transforms.ToTensor()\n",
    "])\n",
    "dataset_path = os.path.dirname(os.getcwd()) + \"/rendered_images\"\n",
    "training_data = ImageFolder(dataset_path, transform = transform)\n",
    "data_loader = torch.utils.data.DataLoader(training_data,\n",
    "                                          batch_size= batch_size,\n",
    "                                          shuffle=True,\n",
    "                                          num_workers= 1)"
   ]
  },
  {
   "cell_type": "code",
   "execution_count": 41,
   "metadata": {},
   "outputs": [
    {
     "data": {
      "text/plain": [
       "('/Users/udai/Documents/GitHub/rendered_images/108b9cb292fd811cf51f77a6d7299806/image_000_p020_t000_r096.png',\n",
       " 1)"
      ]
     },
     "execution_count": 41,
     "metadata": {},
     "output_type": "execute_result"
    }
   ],
   "source": [
    "data_loader.dataset.imgs[0]"
   ]
  },
  {
   "cell_type": "code",
   "execution_count": null,
   "metadata": {},
   "outputs": [],
   "source": []
  },
  {
   "cell_type": "code",
   "execution_count": null,
   "metadata": {},
   "outputs": [],
   "source": []
  },
  {
   "cell_type": "code",
   "execution_count": null,
   "metadata": {},
   "outputs": [],
   "source": []
  }
 ],
 "metadata": {
  "kernelspec": {
   "display_name": "Python 3",
   "language": "python",
   "name": "python3"
  },
  "language_info": {
   "codemirror_mode": {
    "name": "ipython",
    "version": 3
   },
   "file_extension": ".py",
   "mimetype": "text/x-python",
   "name": "python",
   "nbconvert_exporter": "python",
   "pygments_lexer": "ipython3",
   "version": "3.6.5"
  }
 },
 "nbformat": 4,
 "nbformat_minor": 2
}
