{
 "cells": [
  {
   "cell_type": "code",
   "execution_count": 1,
   "metadata": {},
   "outputs": [],
   "source": [
    "import torch as torch\n",
    "import torch.nn as nn\n",
    "import torch.nn.functional as F"
   ]
  },
  {
   "cell_type": "code",
   "execution_count": 2,
   "metadata": {},
   "outputs": [],
   "source": [
    "class Encoder(nn.Module):\n",
    "    \n",
    "    def __init__(self, batch_size, encoded_size):\n",
    "        super(Encoder, self).__init__()\n",
    "        \n",
    "        #store variables\n",
    "        self.batch_size = batch_size\n",
    "        self.encoded_size = encoded_size\n",
    "        self.neg_slope = 0.2\n",
    "        \n",
    "        #architecture\n",
    "        self.conv1 = nn.Conv2d(in_channels= 3, out_channels= 32, kernel_size= 3)\n",
    "        self.bn1 = nn.BatchNorm2d(32)\n",
    "        \n",
    "        self.conv2 = nn.Conv2d(in_channels= 32, out_channels= 32, kernel_size= 3)\n",
    "        self.bn2 = nn.BatchNorm2d(32)\n",
    "        \n",
    "        self.conv3 = nn.Conv2d(in_channels= 32, out_channels= 32, kernel_size= 3)\n",
    "        self.bn3 = nn.BatchNorm2d(32)\n",
    "        \n",
    "        self.conv4 = nn.Conv2d(in_channels= 32, out_channels= 64, kernel_size= 1)\n",
    "        self.bn4 = nn.BatchNorm2d(64)\n",
    "        \n",
    "        self.pooling = nn.MaxPool2d(kernel_size= 3, stride= 2)\n",
    "        \n",
    "        self.conv5 = nn.Conv2d(in_channels=64, out_channels= 64, kernel_size= 3)\n",
    "        self.bn5 = nn.BatchNorm2d(64)\n",
    "        \n",
    "        self.conv6 = nn.Conv2d(in_channels=64, out_channels= 64, kernel_size= 3)\n",
    "        self.bn6 = nn.BatchNorm2d(64)\n",
    "\n",
    "        self.conv7 = nn.Conv2d(in_channels=64, out_channels= 96, kernel_size= 1)\n",
    "        self.bn7 = nn.BatchNorm2d(96)\n",
    "        \n",
    "        self.conv8 = nn.Conv2d(in_channels=96, out_channels= 96, kernel_size= 3)\n",
    "        self.bn8 = nn.BatchNorm2d(96)\n",
    "        \n",
    "        self.conv9 = nn.Conv2d(in_channels=96, out_channels= 96, kernel_size= 3)\n",
    "        self.bn9 = nn.BatchNorm2d(96)\n",
    "        \n",
    "        self.conv10 = nn.Conv2d(in_channels=96, out_channels= 128, kernel_size= 1)\n",
    "        self.bn10 = nn.BatchNorm2d(128)\n",
    "        \n",
    "        self.conv11 = nn.Conv2d(in_channels=128, out_channels= 128, kernel_size= 3)\n",
    "        self.bn11 = nn.BatchNorm2d(128)\n",
    "        \n",
    "        self.conv12 = nn.Conv2d(in_channels=128, out_channels= 128, kernel_size= 3)\n",
    "        self.bn12 = nn.BatchNorm2d(128)\n",
    "        \n",
    "        self.conv13 = nn.Conv2d(in_channels=128, out_channels= 160, kernel_size= 1)\n",
    "        self.bn13 = nn.BatchNorm2d(160)\n",
    "        \n",
    "        self.conv14 = nn.Conv2d(in_channels=160, out_channels= 160, kernel_size= 1)\n",
    "        self.bn14 = nn.BatchNorm2d(160)\n",
    "        \n",
    "        self.conv15 = nn.Conv2d(in_channels=160, out_channels= 160, kernel_size= 1)\n",
    "        self.bn15 = nn.BatchNorm2d(160)\n",
    "        \n",
    "        self.conv16 = nn.Conv2d(in_channels=160, out_channels= 160, kernel_size= 1)\n",
    "        self.bn16 = nn.BatchNorm2d(160)\n",
    "        \n",
    "        self.fully_connected = nn.Linear(in_features= 1440, out_features= self.encoded_size)\n",
    "        \n",
    "    def forward(self, x):\n",
    "        \n",
    "        out = F.leaky_relu(self.bn1(self.conv1(x)), negative_slope = self.neg_slope)\n",
    "        out = F.leaky_relu(self.bn2(self.conv2(out)), negative_slope = self.neg_slope)\n",
    "        out = F.leaky_relu(self.bn3(self.conv3(out)), negative_slope = self.neg_slope)\n",
    "        out = F.leaky_relu(self.bn4(self.conv4(out)), negative_slope = self.neg_slope)\n",
    "        \n",
    "        out = self.pooling(out)\n",
    "\n",
    "        out = F.leaky_relu(self.bn5(self.conv5(out)), negative_slope = self.neg_slope)\n",
    "        out = F.leaky_relu(self.bn6(self.conv6(out)), negative_slope = self.neg_slope)\n",
    "        out = F.leaky_relu(self.bn7(self.conv7(out)), negative_slope = self.neg_slope)\n",
    "        \n",
    "        out = self.pooling(out)\n",
    "\n",
    "        out = F.leaky_relu(self.bn8(self.conv8(out)), negative_slope = self.neg_slope)\n",
    "        out = F.leaky_relu(self.bn9(self.conv9(out)), negative_slope = self.neg_slope)\n",
    "        out = F.leaky_relu(self.bn10(self.conv10(out)), negative_slope = self.neg_slope)\n",
    "        \n",
    "        out = self.pooling(out)\n",
    "\n",
    "        out = F.leaky_relu(self.bn11(self.conv11(out)), negative_slope = self.neg_slope)\n",
    "        out = F.leaky_relu(self.bn12(self.conv12(out)), negative_slope = self.neg_slope)\n",
    "        out = F.leaky_relu(self.bn13(self.conv13(out)), negative_slope = self.neg_slope)\n",
    "        out = F.leaky_relu(self.bn14(self.conv14(out)), negative_slope = self.neg_slope)\n",
    "        \n",
    "        out = self.pooling(out)\n",
    "\n",
    "        out = F.leaky_relu(self.bn15(self.conv15(out)), negative_slope = self.neg_slope)\n",
    "        out = F.leaky_relu(self.bn16(self.conv16(out)), negative_slope = self.neg_slope)\n",
    "        \n",
    "        out = out.view((self.batch_size, 1440))\n",
    "        out = self.fully_connected(out)\n",
    "        \n",
    "        return out\n",
    "        \n",
    "        "
   ]
  },
  {
   "cell_type": "code",
   "execution_count": 3,
   "metadata": {},
   "outputs": [],
   "source": [
    "class Classifier(nn.Module):\n",
    "    \n",
    "    def __init__(self, batch_size, encoded_size):\n",
    "        super(Classifier, self).__init__()\n",
    "        \n",
    "        #storing variables\n",
    "        self.batch_size = batch_size\n",
    "        self.encoded_size = encoded_size\n",
    "        self.neg_slope = 0.2\n",
    "        \n",
    "        #architecture\n",
    "        self.conv1 = nn.Conv2d(in_channels= 9, out_channels= 96, kernel_size= 8, stride= 2)\n",
    "        self.bn1 = nn.BatchNorm2d(96)\n",
    "        \n",
    "        self.pooling = nn.MaxPool2d(kernel_size= 3, stride= 2)\n",
    "        \n",
    "        self.conv2 = nn.Conv2d(in_channels= 96, out_channels= 256, kernel_size=5)\n",
    "        self.bn2 = nn.BatchNorm2d(256)\n",
    "        \n",
    "        self.conv3 = nn.Conv2d(in_channels= 256, out_channels= 384, kernel_size= 3)\n",
    "        self.bn3 = nn.BatchNorm2d(384)\n",
    "        \n",
    "        self.conv4 = nn.Conv2d(in_channels= 384, out_channels= 384, kernel_size= 3)\n",
    "        self.bn4 = nn.BatchNorm2d(384)\n",
    "        \n",
    "        self.conv5 = nn.Conv2d(in_channels= 384, out_channels= 256, kernel_size= 3)\n",
    "        self.bn5 = nn.BatchNorm2d(256)\n",
    "        \n",
    "        self.fully_connected1 = nn.Linear(in_features= 1024, out_features= 4096)\n",
    "        self.fully_connected2 = nn.Linear(in_features= 4096, out_features= 4096)\n",
    "        self.fully_connected3 = nn.Linear(in_features= 4096, out_features= self.encoded_size)\n",
    "        \n",
    "    def forward(self, x):\n",
    "        #x is size (batch size x 9 x 128 x 128)\n",
    "        #note: stacking 3 rgb images\n",
    "        print(x.shape)\n",
    "        out = F.leaky_relu(self.bn1(self.conv1(x)), negative_slope= self.neg_slope)\n",
    "        print(out.shape)\n",
    "        out = self.pooling(out)\n",
    "        print(out.shape)\n",
    "        out = F.leaky_relu(self.bn2(self.conv2(out)), negative_slope= self.neg_slope)\n",
    "        print(out.shape)\n",
    "        out = self.pooling(out)\n",
    "        print(out.shape)\n",
    "        out = F.leaky_relu(self.bn3(self.conv3(out)), negative_slope= self.neg_slope)\n",
    "        print(out.shape)\n",
    "        out = F.leaky_relu(self.bn4(self.conv4(out)), negative_slope= self.neg_slope)\n",
    "        print(out.shape)\n",
    "        out = F.leaky_relu(self.bn5(self.conv5(out)), negative_slope= self.neg_slope)\n",
    "        out = self.pooling(out)\n",
    "        \n",
    "        out = out.view((self.batch_size, 1024))\n",
    "        \n",
    "        out = self.fully_connected1(out)\n",
    "        out = self.fully_connected2(out)\n",
    "        out = self.fully_connected3(out)\n",
    "        \n",
    "        return out\n",
    "        \n",
    "        "
   ]
  },
  {
   "cell_type": "code",
   "execution_count": 4,
   "metadata": {},
   "outputs": [],
   "source": [
    "batch_size = 16\n",
    "encoded_size = 20"
   ]
  },
  {
   "cell_type": "code",
   "execution_count": 5,
   "metadata": {},
   "outputs": [],
   "source": [
    "x1 = torch.rand((batch_size, 3, 128, 128))\n",
    "x2 = torch.rand((batch_size, 3, 128, 128))\n",
    "x3 = torch.rand((batch_size, 3, 128, 128))"
   ]
  },
  {
   "cell_type": "code",
   "execution_count": 18,
   "metadata": {},
   "outputs": [
    {
     "data": {
      "text/plain": [
       "torch.Size([16, 9, 128, 128])"
      ]
     },
     "execution_count": 18,
     "metadata": {},
     "output_type": "execute_result"
    }
   ],
   "source": [
    "torch.cat((x1, x2, x3), dim = 1).shape"
   ]
  },
  {
   "cell_type": "code",
   "execution_count": 6,
   "metadata": {},
   "outputs": [
    {
     "data": {
      "text/plain": [
       "torch.Size([16, 3, 128, 128])"
      ]
     },
     "execution_count": 6,
     "metadata": {},
     "output_type": "execute_result"
    }
   ],
   "source": [
    "x1.shape"
   ]
  },
  {
   "cell_type": "code",
   "execution_count": 7,
   "metadata": {},
   "outputs": [],
   "source": [
    "class Decoder(nn.Module):\n",
    "    \n",
    "    def __init__(self, batch_size, encoded_size):\n",
    "        super(Decoder, self).__init__()\n",
    "        \n",
    "        #storing variables\n",
    "        self.batch_size = batch_size\n",
    "        self.encoded_size = encoded_size\n",
    "        self.neg_slope = 0.2\n",
    "        \n",
    "        #architecture\n",
    "        self.fully_connected = nn.Linear(in_features= self.encoded_size, out_features= 4096)\n",
    "        \n",
    "        self.conv1 = nn.Conv2d(in_channels= 64, out_channels= 64, kernel_size= 3)\n",
    "        self.bn1 = nn.BatchNorm2d(64)\n",
    "        \n",
    "        self.conv2 = nn.Conv2d(in_channels= 64, out_channels= 64, kernel_size= 3)\n",
    "        self.bn2 = nn.BatchNorm2d(64)\n",
    "        \n",
    "        self.upsample = nn.Upsample(scale_factor= 2)\n",
    "        \n",
    "        self.conv3 = nn.Conv2d(in_channels= 64, out_channels= 64, kernel_size= 3)\n",
    "        self.bn3 = nn.BatchNorm2d(64)\n",
    "        \n",
    "        self.conv4 = nn.Conv2d(in_channels= 64, out_channels= 64, kernel_size= 3)\n",
    "        self.bn4 = nn.BatchNorm2d(64)\n",
    "        \n",
    "        self.conv5 = nn.Conv2d(in_channels= 64, out_channels= 64, kernel_size= 3)\n",
    "        self.bn5 = nn.BatchNorm2d(64)\n",
    "        \n",
    "        self.conv6 = nn.Conv2d(in_channels= 64, out_channels= 64, kernel_size= 3)\n",
    "        self.bn6 = nn.BatchNorm2d(64)\n",
    "        \n",
    "        self.conv7 = nn.Conv2d(in_channels= 64, out_channels= 64, kernel_size= 3)\n",
    "        self.bn7 = nn.BatchNorm2d(64)\n",
    "        \n",
    "        self.conv8 = nn.Conv2d(in_channels= 64, out_channels= 64, kernel_size= 3)\n",
    "        self.bn8 = nn.BatchNorm2d(64)\n",
    "        \n",
    "        self.conv9 = nn.Conv2d(in_channels= 64, out_channels= 64, kernel_size= 3)\n",
    "        self.bn9 = nn.BatchNorm2d(64)\n",
    "        \n",
    "        self.conv10 = nn.Conv2d(in_channels= 64, out_channels= 64, kernel_size= 3)\n",
    "        self.bn10 = nn.BatchNorm2d(64)\n",
    "        \n",
    "        self.conv11 = nn.Conv2d(in_channels= 64, out_channels= 3, kernel_size= 3)\n",
    "        \n",
    "        \n",
    "        \n",
    "        \n",
    "    def forward(self, x):\n",
    "        \n",
    "        #takes in a batch of images (batch size x encoded size)\n",
    "        \n",
    "        out = self.fully_connected(x)\n",
    "        out = out.view((self.batch_size, 64, 8, 8))\n",
    "        out = F.leaky_relu(self.bn1(self.conv1(out)), negative_slope= self.neg_slope)\n",
    "        out = F.leaky_relu(self.bn2(self.conv2(out)), negative_slope= self.neg_slope)\n",
    "        print(out.shape)\n",
    "        out = self.upsample(out)\n",
    "        print(out.shape)\n",
    "        out = F.leaky_relu(self.bn3(self.conv3(out)), negative_slope= self.neg_slope)\n",
    "        out = F.leaky_relu(self.bn4(self.conv4(out)), negative_slope= self.neg_slope)\n",
    "        out = self.upsample(out)\n",
    "        out = F.leaky_relu(self.bn5(self.conv5(out)), negative_slope= self.neg_slope)\n",
    "        out = self.upsample(out)\n",
    "        print(out.shape)\n",
    "        out = F.leaky_relu(self.bn6(self.conv6(out)), negative_slope= self.neg_slope)\n",
    "        out = self.upsample(out)\n",
    "        out = F.leaky_relu(self.bn5(self.conv7(out)), negative_slope= self.neg_slope)\n",
    "        out = self.upsample(out)\n",
    "        out = F.leaky_relu(self.bn6(self.conv8(out)), negative_slope= self.neg_slope)\n",
    "        out = self.upsample(out)\n",
    "        out = F.leaky_relu(self.bn5(self.conv9(out)), negative_slope= self.neg_slope)\n",
    "        out = self.upsample(out)\n",
    "        out = F.leaky_relu(self.bn6(self.conv10(out)), negative_slope= self.neg_slope)\n",
    "        out = F.relu(self.conv11(out))\n",
    "        \n",
    "        return out\n",
    "        \n",
    "        \n",
    "        \n",
    "        "
   ]
  },
  {
   "cell_type": "code",
   "execution_count": 8,
   "metadata": {},
   "outputs": [],
   "source": [
    "decoder = Decoder(batch_size, encoded_size)"
   ]
  },
  {
   "cell_type": "code",
   "execution_count": 9,
   "metadata": {},
   "outputs": [],
   "source": [
    "encoded_value = torch.rand((batch_size, encoded_size))"
   ]
  },
  {
   "cell_type": "code",
   "execution_count": 10,
   "metadata": {},
   "outputs": [
    {
     "name": "stdout",
     "output_type": "stream",
     "text": [
      "torch.Size([16, 64, 4, 4])\n",
      "torch.Size([16, 64, 8, 8])\n",
      "torch.Size([16, 64, 12, 12])\n"
     ]
    },
    {
     "data": {
      "text/plain": [
       "torch.Size([16, 3, 128, 128])"
      ]
     },
     "execution_count": 10,
     "metadata": {},
     "output_type": "execute_result"
    }
   ],
   "source": [
    "decoder(encoded_value).shape"
   ]
  },
  {
   "cell_type": "code",
   "execution_count": null,
   "metadata": {},
   "outputs": [],
   "source": []
  },
  {
   "cell_type": "code",
   "execution_count": 11,
   "metadata": {},
   "outputs": [],
   "source": [
    "encoder = Encoder(batch_size, encoded_size)"
   ]
  },
  {
   "cell_type": "code",
   "execution_count": 12,
   "metadata": {},
   "outputs": [
    {
     "data": {
      "text/plain": [
       "torch.Size([16, 20])"
      ]
     },
     "execution_count": 12,
     "metadata": {},
     "output_type": "execute_result"
    }
   ],
   "source": [
    "encoder(x1).shape"
   ]
  },
  {
   "cell_type": "code",
   "execution_count": null,
   "metadata": {},
   "outputs": [],
   "source": []
  },
  {
   "cell_type": "code",
   "execution_count": 14,
   "metadata": {},
   "outputs": [
    {
     "data": {
      "text/plain": [
       "torch.Size([16, 20])"
      ]
     },
     "execution_count": 14,
     "metadata": {},
     "output_type": "execute_result"
    }
   ],
   "source": [
    "torch.FloatTensor(batch_size, encoded_size).uniform_(0, 1).shape"
   ]
  },
  {
   "cell_type": "code",
   "execution_count": null,
   "metadata": {},
   "outputs": [],
   "source": []
  },
  {
   "cell_type": "code",
   "execution_count": 15,
   "metadata": {},
   "outputs": [
    {
     "data": {
      "text/plain": [
       "tensor([[1., 1., 1., 1., 1., 1., 1., 1., 1., 1., 1., 1., 1., 1., 1., 1., 1., 1.,\n",
       "         1., 1.],\n",
       "        [1., 1., 1., 1., 1., 1., 1., 1., 1., 1., 1., 1., 1., 1., 1., 1., 1., 1.,\n",
       "         1., 1.],\n",
       "        [1., 1., 1., 1., 1., 1., 1., 1., 1., 1., 1., 1., 1., 1., 1., 1., 1., 1.,\n",
       "         1., 1.],\n",
       "        [1., 1., 1., 1., 1., 1., 1., 1., 1., 1., 1., 1., 1., 1., 1., 1., 1., 1.,\n",
       "         1., 1.],\n",
       "        [1., 1., 1., 1., 1., 1., 1., 1., 1., 1., 1., 1., 1., 1., 1., 1., 1., 1.,\n",
       "         1., 1.],\n",
       "        [1., 1., 1., 1., 1., 1., 1., 1., 1., 1., 1., 1., 1., 1., 1., 1., 1., 1.,\n",
       "         1., 1.],\n",
       "        [1., 1., 1., 1., 1., 1., 1., 1., 1., 1., 1., 1., 1., 1., 1., 1., 1., 1.,\n",
       "         1., 1.],\n",
       "        [1., 1., 1., 1., 1., 1., 1., 1., 1., 1., 1., 1., 1., 1., 1., 1., 1., 1.,\n",
       "         1., 1.],\n",
       "        [1., 1., 1., 1., 1., 1., 1., 1., 1., 1., 1., 1., 1., 1., 1., 1., 1., 1.,\n",
       "         1., 1.],\n",
       "        [1., 1., 1., 1., 1., 1., 1., 1., 1., 1., 1., 1., 1., 1., 1., 1., 1., 1.,\n",
       "         1., 1.],\n",
       "        [1., 1., 1., 1., 1., 1., 1., 1., 1., 1., 1., 1., 1., 1., 1., 1., 1., 1.,\n",
       "         1., 1.],\n",
       "        [1., 1., 1., 1., 1., 1., 1., 1., 1., 1., 1., 1., 1., 1., 1., 1., 1., 1.,\n",
       "         1., 1.],\n",
       "        [1., 1., 1., 1., 1., 1., 1., 1., 1., 1., 1., 1., 1., 1., 1., 1., 1., 1.,\n",
       "         1., 1.],\n",
       "        [1., 1., 1., 1., 1., 1., 1., 1., 1., 1., 1., 1., 1., 1., 1., 1., 1., 1.,\n",
       "         1., 1.],\n",
       "        [1., 1., 1., 1., 1., 1., 1., 1., 1., 1., 1., 1., 1., 1., 1., 1., 1., 1.,\n",
       "         1., 1.],\n",
       "        [1., 1., 1., 1., 1., 1., 1., 1., 1., 1., 1., 1., 1., 1., 1., 1., 1., 1.,\n",
       "         1., 1.]])"
      ]
     },
     "execution_count": 15,
     "metadata": {},
     "output_type": "execute_result"
    }
   ],
   "source": [
    "torch.ones(batch_size, encoded_size)"
   ]
  },
  {
   "cell_type": "code",
   "execution_count": null,
   "metadata": {},
   "outputs": [],
   "source": []
  },
  {
   "cell_type": "code",
   "execution_count": null,
   "metadata": {},
   "outputs": [],
   "source": []
  },
  {
   "cell_type": "code",
   "execution_count": null,
   "metadata": {},
   "outputs": [],
   "source": []
  },
  {
   "cell_type": "code",
   "execution_count": null,
   "metadata": {},
   "outputs": [],
   "source": []
  }
 ],
 "metadata": {
  "kernelspec": {
   "display_name": "Python 3",
   "language": "python",
   "name": "python3"
  },
  "language_info": {
   "codemirror_mode": {
    "name": "ipython",
    "version": 3
   },
   "file_extension": ".py",
   "mimetype": "text/x-python",
   "name": "python",
   "nbconvert_exporter": "python",
   "pygments_lexer": "ipython3",
   "version": "3.6.5"
  }
 },
 "nbformat": 4,
 "nbformat_minor": 2
}
